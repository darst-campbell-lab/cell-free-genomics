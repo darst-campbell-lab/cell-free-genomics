{
 "cells": [
  {
   "cell_type": "markdown",
   "id": "fe467230",
   "metadata": {},
   "source": [
    "# Visualizing/assessing genomic coverage in CFG"
   ]
  },
  {
   "cell_type": "markdown",
   "id": "cbd5b5cd",
   "metadata": {},
   "source": [
    "To generate Fig. 1B (circos), Extended Data Fig. 5c-d (correlation matrices for 5' ends/TSSs),\n",
    "and Extended Data Fig. 6c-d (correlation matrices for 3' ends/TTSs)."
   ]
  },
  {
   "cell_type": "code",
   "execution_count": 1,
   "id": "b2f416ee",
   "metadata": {},
   "outputs": [],
   "source": [
    "import pandas as pd\n",
    "import numpy as np\n",
    "import matplotlib.pyplot as plt\n",
    "import matplotlib_venn\n",
    "import upsetplot\n",
    "import itertools\n",
    "import plotly.express as px\n",
    "from scipy import stats\n",
    "from statsmodels.stats.multitest import fdrcorrection\n",
    "from statistics import mean, stdev\n",
    "import math\n",
    "import statsmodels.api as sm\n",
    "from statsmodels.formula.api import ols\n",
    "import seaborn as sns\n",
    "from scipy.stats import fisher_exact\n",
    "from scipy.stats.contingency import odds_ratio"
   ]
  },
  {
   "cell_type": "code",
   "execution_count": null,
   "id": "952ebfb8",
   "metadata": {},
   "outputs": [],
   "source": [
    "# written by Peter Culviner, PhD to enable command-line access through Jupyter\n",
    "def quickshell(command, print_output=True, output_path=None, return_output=False):\n",
    "    process_output = subprocess.run(command, shell=True, stdout=subprocess.PIPE, stderr=subprocess.PIPE)\n",
    "    stdout = process_output.stdout.decode('utf-8')\n",
    "    stderr = process_output.stderr.decode('utf-8')\n",
    "    output_string = f'STDOUT:\\n{stdout}\\nSTDERR:\\n{stderr}\\n'\n",
    "    if print_output:\n",
    "        print('$ ' + command)\n",
    "        print(output_string)\n",
    "    if output_path is not None:\n",
    "        with open(output_path, 'w') as f:\n",
    "            f.write(output_string)\n",
    "    if return_output:\n",
    "        return stdout, stderr"
   ]
  },
  {
   "cell_type": "markdown",
   "id": "228d60b9",
   "metadata": {},
   "source": [
    "# Circos plot (Fig. 1b)"
   ]
  },
  {
   "cell_type": "markdown",
   "id": "05cf7666",
   "metadata": {},
   "source": [
    "### Set inputs"
   ]
  },
  {
   "cell_type": "code",
   "execution_count": null,
   "id": "20b68ac7",
   "metadata": {},
   "outputs": [],
   "source": [
    "condition_string_5end = 'noCRP_CRP'\n",
    "count_cutoff_5end = 20\n",
    "\n",
    "condition_string_3end = 'multifactor'\n",
    "count_cutoff_3end = 70"
   ]
  },
  {
   "cell_type": "markdown",
   "id": "218bae4c",
   "metadata": {},
   "source": [
    "### Generate coverage file using summarizeOverlaps"
   ]
  },
  {
   "cell_type": "markdown",
   "id": "081d1e5d",
   "metadata": {},
   "source": [
    "Circos visualization works best using evenly-spaced bins of the genome.\n",
    "Note that the summarizeOverlaps script requires a list of bam files as input.\n",
    "You need to generate this as a .txt file with the full file path."
   ]
  },
  {
   "cell_type": "code",
   "execution_count": 5,
   "id": "83e76121",
   "metadata": {},
   "outputs": [],
   "source": [
    "figure_dir = 'fig1B_circos'\n",
    "\n",
    "summarizeOverlaps_5end_command = f'Rscript --vanilla Rscripts/CFG_summarizeOverlaps.R ' + \\\n",
    "            f'-b {figure_dir}/BamList_5end.txt ' + \\\n",
    "            f'-g genome_files_misc/geneModel_evenSpace_550bp.csv ' + \\\n",
    "            f'-o {figure_dir}/5end_coverage_circos.csv'\n",
    "quickshell(summarizeOverlaps_5end_command, print_output = True)"
   ]
  },
  {
   "cell_type": "code",
   "execution_count": null,
   "id": "5718de02",
   "metadata": {},
   "outputs": [],
   "source": [
    "figure_dir = 'Rscripts/fig1B_circos'\n",
    "\n",
    "summarizeOverlaps_3end_command = f'Rscript --vanilla Rscripts/CFG_summarizeOverlaps.R ' + \\\n",
    "            f'-b {figure_dir}/BamList_3end.txt ' + \\\n",
    "            f'-g genome_files_misc/geneModel_evenSpace_550bp.csv ' + \\\n",
    "            f'-o {figure_dir}/3end_coverage_circos.csv'\n",
    "quickshell(summarizeOverlaps_3end_command, print_output = True)"
   ]
  },
  {
   "cell_type": "markdown",
   "id": "f023a417",
   "metadata": {},
   "source": [
    "### Prepare gene model"
   ]
  },
  {
   "cell_type": "code",
   "execution_count": 3,
   "id": "c1e2cb45",
   "metadata": {},
   "outputs": [],
   "source": [
    "geneModel = pd.read_csv('genome_files_misc/geneModel_evenSpace_550bp.csv')\n",
    "geneModel_noEco = geneModel.iloc[2:]\n",
    "geneModel_noEco.reset_index(inplace=True)\n",
    "\n",
    "coord_ranges = []\n",
    "for i in range(len(geneModel_noEco.index)):\n",
    "\n",
    "    start = geneModel_noEco['start'][i]\n",
    "    end = geneModel_noEco['end'][i]\n",
    "    coord_ranges.append(range(start,end))\n",
    "    \n",
    "geneModel_noEco['coord_range'] = coord_ranges\n",
    "geneModel_noEco['counts_per_gene'] = 0\n",
    "geneModel = geneModel_noEco.explode('coord_range')\n",
    "geneModel['coordID'] = geneModel['coord_range'].astype(str) + geneModel['strand']"
   ]
  },
  {
   "cell_type": "markdown",
   "id": "9b3aeddc",
   "metadata": {},
   "source": [
    "### Add in TSS data to gene model"
   ]
  },
  {
   "cell_type": "code",
   "execution_count": null,
   "id": "44c22d56",
   "metadata": {},
   "outputs": [],
   "source": [
    "union_5end = pd.read_csv(f'5enrich_CRP/selectThreshold/transcriptEndUnions/' + \\\n",
    "                        f'union_DF_{condition_string_5end}_{count_cutoff_5end}counts.csv') \n",
    "\n",
    "merged_DF_5end = union_5end.merge(geneModel,\n",
    "                how = 'outer',\n",
    "                on = 'coordID')\n",
    "\n",
    "counts_per_gene_5end = []\n",
    "\n",
    "for ID in merged_DF_5end['unique_row_ID'].unique().tolist():\n",
    "    counts_per_gene_5end.append([ID, len(merged_DF_5end.loc[(merged_DF_5end['unique_row_ID'] == ID) &\n",
    "                                            ~pd.isnull(merged_DF_5end['RC_CRP1_ends']),].index)])\n",
    "    \n",
    "counts_DF_5end = pd.DataFrame(counts_per_gene_5end, columns = ['unique_row_ID',\n",
    "                                                        f'5end_enriched_end_count_20'])\n",
    "\n",
    "geneModel_noEco_5end = geneModel_noEco_5end.merge(counts_DF_5end,\n",
    "                                        how = 'outer',\n",
    "                                        on = 'unique_row_ID')\n",
    "geneModel_noEco_5end.to_csv('fig1B_circos/5end_TSSs_circos.csv')"
   ]
  },
  {
   "cell_type": "markdown",
   "id": "2a23c6d5",
   "metadata": {},
   "source": [
    "### Add in TTS data to gene model"
   ]
  },
  {
   "cell_type": "code",
   "execution_count": null,
   "id": "95da1f4e",
   "metadata": {},
   "outputs": [],
   "source": [
    "union_5end = pd.read_csv(f'3enrich_NusAG/selectThreshold/transcriptEndUnions/' + \\\n",
    "                        f'union_DF_{condition_string_3end}_{count_cutoff_3end}counts.csv') \n",
    "\n",
    "merged_DF_3end = union_3end.merge(geneModel,\n",
    "                how = 'outer',\n",
    "                on = 'coordID')\n",
    "\n",
    "counts_per_gene_3end = []\n",
    "\n",
    "for ID in merged_DF_3end['unique_row_ID'].unique().tolist():\n",
    "    counts_per_gene_3end.append([ID, len(merged_DF_3end.loc[(merged_DF_3end['unique_row_ID'] == ID) &\n",
    "                                            ~pd.isnull(merged_DF_3end['noTF1_ends']),].index)])\n",
    "    \n",
    "counts_DF_3end = pd.DataFrame(counts_per_gene_3end, columns = ['unique_row_ID',\n",
    "                                                        '3end_enriched_end_count_70'])\n",
    "\n",
    "geneModel_noEco_3end = geneModel_noEco.merge(counts_DF_3end,\n",
    "                                        how = 'outer',\n",
    "                                        on = 'unique_row_ID')\n",
    "geneModel_noEco_3end.to_csv('fig1B_circos/3end_TTSs_circos.csv')"
   ]
  },
  {
   "cell_type": "markdown",
   "id": "929211c1",
   "metadata": {},
   "source": [
    "### Call circos plot script in R"
   ]
  },
  {
   "cell_type": "code",
   "execution_count": null,
   "id": "ee2177dd",
   "metadata": {},
   "outputs": [],
   "source": [
    "figure_dir = 'fig1B_circos'\n",
    "\n",
    "circos_command = f'Rscript --vanilla {figure_dir}/circos_plot.R ' + \\\n",
    "            f'-f {figure_dir}/5end_coverage_circos.csv ' + \\\n",
    "            f'-e {figure_dir}/3end_coverage_circos.csv ' + \\\n",
    "            f'-s {figure_dir}/5end_TSSs_circos.csv ' + \\\n",
    "            f'-t {figure_dir}/3end_TTSs_circos.csv ' + \\\n",
    "            f'-g genome_files_misc/geneModel_evenSpace_550bp.csv ' + \\\n",
    "            f'-s 4641652 ' + \\\n",
    "            f'-o {figure_dir}/circos_plot_TSS.png ' + \\\n",
    "            f'-x {figure_dir}/circos_plot_TTS.png'\n",
    "quickshell(circos_command, print_output = True)"
   ]
  },
  {
   "cell_type": "markdown",
   "id": "568c9f73",
   "metadata": {},
   "source": [
    "# Generating correlation plots (Ext Data Fig. 5c-d and 6c-d)"
   ]
  },
  {
   "cell_type": "markdown",
   "id": "1aa733ef",
   "metadata": {},
   "source": [
    "### Generate coverage file using summarizeOverlaps"
   ]
  },
  {
   "cell_type": "markdown",
   "id": "1f2932b1",
   "metadata": {},
   "source": [
    "Chose to generate the coverage file using actual genomic regions for the correlation (more meaningful than evenly spaced bins)."
   ]
  },
  {
   "cell_type": "code",
   "execution_count": null,
   "id": "5ca2535c",
   "metadata": {},
   "outputs": [],
   "source": [
    "figure_dir = 'extDataFig5_Fig6_correlationMatrices'\n",
    "\n",
    "summarizeOverlaps_5end_command = f'Rscript --vanilla Rscripts/CFG_summarizeOverlaps.R ' + \\\n",
    "            f'-b {figure_dir}/BamList_5end.txt ' + \\\n",
    "            f'-g genome_files_misc/geneModel_genomicRegions.csv ' + \\\n",
    "            f'-o {figure_dir}/5end_coverage_genomicRegions.csv'\n",
    "quickshell(summarizeOverlaps_5end_command, print_output = True)"
   ]
  },
  {
   "cell_type": "code",
   "execution_count": null,
   "id": "5062efda",
   "metadata": {},
   "outputs": [],
   "source": [
    "figure_dir = 'extDataFig5_Fig6_correlationMatrices'\n",
    "\n",
    "summarizeOverlaps_3end_command = f'Rscript --vanilla Rscripts/CFG_summarizeOverlaps.R ' + \\\n",
    "            f'-b {figure_dir}/BamList_3end.txt ' + \\\n",
    "            f'-g genome_files_misc/geneModel_genomicRegions.csv ' + \\\n",
    "            f'-o {figure_dir}/3end_coverage_genomicRegions.csv'\n",
    "quickshell(summarizeOverlaps_3end_command, print_output = True)"
   ]
  },
  {
   "cell_type": "markdown",
   "id": "6f227b5f",
   "metadata": {},
   "source": [
    "### Generate TSS data"
   ]
  },
  {
   "cell_type": "code",
   "execution_count": 8,
   "id": "22bdc841",
   "metadata": {},
   "outputs": [],
   "source": [
    "nonparametric_calls_5end = '5enrich_CRP/identifyEnrichedEnds/bootstrap_calls'\n",
    "\n",
    "# List of samples (not including the first)\n",
    "sample_list = ['core2','core3',\n",
    "               'noCRP1','noCRP2','noCRP3',\n",
    "               'CRP1','CRP2','CRP3']\n",
    "\n",
    "# Read in first file\n",
    "TSS_DF = pd.read_table(f'{nonparametric_calls_5end}/core1_calls_alpha1.txt')[['end','count']]\n",
    "TSS_DF.rename(columns = {'end': 'end',\n",
    "                         'count': 'core1_count'},\n",
    "              inplace = True)\n",
    "\n",
    "for sample in sample_list:\n",
    "    new_DF = pd.read_table(f'{nonparametric_calls_5end}/{sample}_calls_alpha1.txt')[['end','count']]\n",
    "    new_DF.rename(columns = {'end': 'end',\n",
    "                             'count': f'{sample}_count'},\n",
    "                  inplace = True)   \n",
    "    TSS_DF = TSS_DF.merge(new_DF,\n",
    "                          how = 'outer',\n",
    "                          on = 'end')\n",
    "\n",
    "TSS_DF.fillna(0, inplace = True)\n",
    "TSS_DF.to_csv('extDataFig5_Fig6_correlationMatrices/TSS_corr.csv')"
   ]
  },
  {
   "cell_type": "markdown",
   "id": "ab9210f9",
   "metadata": {},
   "source": [
    "### Generate TTS data"
   ]
  },
  {
   "cell_type": "code",
   "execution_count": 7,
   "id": "91d43716",
   "metadata": {},
   "outputs": [],
   "source": [
    "nonparametric_calls_3end = '3enrich_NusAG/identifyEnrichedEnds/bootstrap_calls'\n",
    "nonparametric_calls_gDNA = 'gDNA/identifyEnrichedEnds/bootstrap_calls'\n",
    "\n",
    "# List of samples (not including the first)\n",
    "gDNA_sample_list = ['gDNA2','gDNA3']\n",
    "sample_list = ['noTF1','noTF2','noTF3','NusA1','NusA2','NusA3',\n",
    "               'NusG1','NusG2','NusG3','NusA_NusG1','NusA_NusG2','NusA_NusG3']\n",
    "\n",
    "# Read in first file\n",
    "TTS_DF = pd.read_table(f'{nonparametric_calls_gDNA}/gDNA1_calls_alpha1.txt')[['end','count']]\n",
    "TTS_DF.rename(columns = {'end': 'end',\n",
    "                         'count': 'gDNA1_count'},\n",
    "              inplace = True)\n",
    "\n",
    "for sample in gDNA_sample_list:\n",
    "    new_DF = pd.read_table(f'{nonparametric_calls_gDNA}/{sample}_calls_alpha1.txt')[['end','count']]\n",
    "    new_DF.rename(columns = {'end': 'end',\n",
    "                             'count': f'{sample}_count'},\n",
    "                  inplace = True)   \n",
    "    TTS_DF = TTS_DF.merge(new_DF,\n",
    "                          how = 'outer',\n",
    "                          on = 'end')\n",
    "\n",
    "for sample in sample_list:\n",
    "    new_DF = pd.read_table(f'{nonparametric_calls_3end}/{sample}_calls_alpha1.txt')[['end','count']]\n",
    "    new_DF.rename(columns = {'end': 'end',\n",
    "                             'count': f'{sample}_count'},\n",
    "                  inplace = True)   \n",
    "    TTS_DF = TTS_DF.merge(new_DF,\n",
    "                          how = 'outer',\n",
    "                          on = 'end')\n",
    "\n",
    "TTS_DF.fillna(0, inplace = True)\n",
    "TTS_DF.to_csv('extDataFig5_Fig6_correlationMatrices/TTS_corr.csv')"
   ]
  },
  {
   "cell_type": "markdown",
   "id": "7b2d5b13",
   "metadata": {},
   "source": [
    "### Call correlation plot script in R"
   ]
  },
  {
   "cell_type": "code",
   "execution_count": null,
   "id": "bc432027",
   "metadata": {},
   "outputs": [],
   "source": [
    "figure_dir = 'extDataFig5_Fig6_correlationMatrices'\n",
    "\n",
    "correlation_fig_command = f'Rscript --vanilla {figure_dir}/CFG_correlation_matrix.R ' + \\\n",
    "            f'-g genome_files_misc/geneModel_genomicRegions.csv ' + \\\n",
    "            f'-f {figure_dir}/5end_coverage_genomicRegions.csv ' + \\\n",
    "            f'-e {figure_dir}/3end_coverage_genomicRegions.csv ' + \\\n",
    "            f'-s {figure_dir}/TSS_corr.csv ' + \\\n",
    "            f'-t {figure_dir}/TTS_corr.csv ' + \\\n",
    "            f'-o {figure_dir}/corr_5end_heatmap.png ' + \\\n",
    "            f'-x {figure_dir}/corr_3end_heatmap.png ' + \\\n",
    "            f'-y {figure_dir}/corr_TSS_heatmap.png ' + \\\n",
    "            f'-z {figure_dir}/corr_TTS_heatmap.png'\n",
    "quickshell(circos_command, print_output = True)"
   ]
  }
 ],
 "metadata": {
  "kernelspec": {
   "display_name": "Python 3",
   "language": "python",
   "name": "python3"
  },
  "language_info": {
   "codemirror_mode": {
    "name": "ipython",
    "version": 3
   },
   "file_extension": ".py",
   "mimetype": "text/x-python",
   "name": "python",
   "nbconvert_exporter": "python",
   "pygments_lexer": "ipython3",
   "version": "3.8.8"
  }
 },
 "nbformat": 4,
 "nbformat_minor": 5
}
