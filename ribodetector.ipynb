{
 "cells": [
  {
   "cell_type": "code",
   "execution_count": 1,
   "id": "f8279770",
   "metadata": {},
   "outputs": [],
   "source": [
    "import subprocess, time\n",
    "import pandas as pd\n",
    "import numpy as np\n",
    "from os import listdir\n",
    "import os\n",
    "from os.path import exists\n",
    "import pandas"
   ]
  },
  {
   "cell_type": "code",
   "execution_count": 2,
   "id": "54f2b7ab",
   "metadata": {},
   "outputs": [],
   "source": [
    "# written by Peter Culviner, PhD to enable command-line access through Jupyter\n",
    "def quickshell(command, print_output=True, output_path=None, return_output=False):\n",
    "    process_output = subprocess.run(command, shell=True, stdout=subprocess.PIPE, stderr=subprocess.PIPE)\n",
    "    stdout = process_output.stdout.decode('utf-8')\n",
    "    stderr = process_output.stderr.decode('utf-8')\n",
    "    output_string = f'STDOUT:\\n{stdout}\\nSTDERR:\\n{stderr}\\n'\n",
    "    if print_output:\n",
    "        print('$ ' + command)\n",
    "        print(output_string)\n",
    "    if output_path is not None:\n",
    "        with open(output_path, 'w') as f:\n",
    "            f.write(output_string)\n",
    "    if return_output:\n",
    "        return stdout, stderr"
   ]
  },
  {
   "cell_type": "code",
   "execution_count": 3,
   "id": "a37c1aa5",
   "metadata": {},
   "outputs": [],
   "source": [
    "main_path = 'inCellulo'\n",
    "genome_dir = f'{main_path}/genomes'\n",
    "\n",
    "cortes_TSS_dir = f'{main_path}/cortes_TSS'\n",
    "cortes_TSS_raw_fastq = f'{cortes_TSS_dir}/fastq'\n",
    "cortes_TSS_processed_fastq = f'{cortes_TSS_dir}/processed_fastq'\n",
    "cortes_ribodetect = f'{cortes_TSS_dir}/ribodetect_fastq'\n",
    "\n",
    "arnvig_TTS_dir = f'{main_path}/arnvig_TTS'\n",
    "arnvig_TTS_raw_fastq = f'{arnvig_TTS_dir}/fastq'\n",
    "arnvig_TTS_processed_fastq = f'{arnvig_TTS_dir}/processed_fastq'\n",
    "arnvig_ribodetect = f'{arnvig_TTS_dir}/ribodetect_fastq'"
   ]
  },
  {
   "cell_type": "markdown",
   "id": "5aca3cda",
   "metadata": {},
   "source": [
    "### Single end samples"
   ]
  },
  {
   "cell_type": "code",
   "execution_count": null,
   "id": "458dfbed",
   "metadata": {},
   "outputs": [],
   "source": [
    "cortes_sample_names = ['Exp_R1_TSS',\n",
    "                'Exp_R2_TSS',\n",
    "                'Exp_R3_TSS']\n",
    "\n",
    "for sample in cortes_sample_names:\n",
    "    \n",
    "    ribodetect_cpu_command = f'ribodetector_cpu -t 18 -l 50 -i ' + \\\n",
    "                             f'{cortes_TSS_processed_fastq}/{sample}.processed.fastq.gz '+ \\\n",
    "                             f'-e rrna --chunk_size 256 -o ' + \\\n",
    "                             f'{cortes_ribodetect}/{sample}_riboremove.fastq.gz'\n",
    "    \n",
    "    ribodetect = quickshell(ribodetect_cpu_command,\n",
    "                           print_output = False,\n",
    "                           return_output = False)"
   ]
  },
  {
   "cell_type": "code",
   "execution_count": null,
   "id": "335f4353",
   "metadata": {},
   "outputs": [],
   "source": [
    "arnvig_sample_names = ['termseq_expo_r1',\n",
    "                'termseq_expo_r2',\n",
    "                'termseq_expo_r3']\n",
    "\n",
    "for sample in arnvig_sample_names:\n",
    "    \n",
    "    ribodetect_cpu_command = f'ribodetector_cpu -t 18 -l 75 -i ' + \\\n",
    "                             f'{arnvig_TTS_processed_fastq}/{sample}.processed.fastq.gz '+ \\\n",
    "                             f'-e rrna --chunk_size 256 -o ' + \\\n",
    "                             f'{arnvig_ribodetect}/{sample}_riboremove.fastq.gz'\n",
    "    \n",
    "    ribodetect = quickshell(ribodetect_cpu_command,\n",
    "                           print_output = False,\n",
    "                           return_output = False)"
   ]
  }
 ],
 "metadata": {
  "kernelspec": {
   "display_name": "Python 3 (ipykernel)",
   "language": "python",
   "name": "python3"
  },
  "language_info": {
   "codemirror_mode": {
    "name": "ipython",
    "version": 3
   },
   "file_extension": ".py",
   "mimetype": "text/x-python",
   "name": "python",
   "nbconvert_exporter": "python",
   "pygments_lexer": "ipython3",
   "version": "3.8.16"
  }
 },
 "nbformat": 4,
 "nbformat_minor": 5
}
