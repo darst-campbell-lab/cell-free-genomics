{
 "cells": [
  {
   "cell_type": "code",
   "execution_count": null,
   "id": "477feff4",
   "metadata": {},
   "outputs": [],
   "source": [
    "# written by Peter Culviner, PhD to enable command-line access through Jupyter\n",
    "def quickshell(command, print_output=True, output_path=None, return_output=False):\n",
    "    process_output = subprocess.run(command, shell=True, stdout=subprocess.PIPE, stderr=subprocess.PIPE)\n",
    "    stdout = process_output.stdout.decode('utf-8')\n",
    "    stderr = process_output.stderr.decode('utf-8')\n",
    "    output_string = f'STDOUT:\\n{stdout}\\nSTDERR:\\n{stderr}\\n'\n",
    "    if print_output:\n",
    "        print('$ ' + command)\n",
    "        print(output_string)\n",
    "    if output_path is not None:\n",
    "        with open(output_path, 'w') as f:\n",
    "            f.write(output_string)\n",
    "    if return_output:\n",
    "        return stdout, stderr"
   ]
  },
  {
   "cell_type": "code",
   "execution_count": null,
   "id": "97cbcfb4",
   "metadata": {},
   "outputs": [],
   "source": [
    "# Inputs\n",
    "main_path = '5enrich_CRP'\n",
    "sample_list = ['noCRP1','noCRP2','noCRP3',\n",
    "              'CRP1','CRP2','CRP3']\n",
    "\n",
    "#main_path = '3enrich_NusAG'\n",
    "#sample_list = ['noTF1','noTF2','noTF3',\n",
    "#              'NusA1','NusA2','NusA3',\n",
    "#              'NusG1','NusG2','NusG3',\n",
    "#              'NusA_NusG1','NusA_NusG2','NusA_NusG3']\n",
    "\n",
    "#gDNA_path = 'gDNA'\n",
    "#sample_list = ['gDNA1','gDNA2','gDNA3']\n",
    "\n",
    "identifyEnrichedEnds_dir = f'{main_path}/identifyEnrichedEnds'\n",
    "downsample_dir = f'{identifyEnrichedEnds_dir}/downsampled_R2_bams'\n",
    "spike_downsample_dir = f'{identifyEnrichedEnds_dir}/downsampled_spike_R2_bams'\n",
    "\n",
    "bigWig_dir = f'{identifyEnrichedEnds_dir}/bigWigs_vis'"
   ]
  },
  {
   "cell_type": "code",
   "execution_count": null,
   "id": "a77b2e53",
   "metadata": {},
   "outputs": [],
   "source": [
    "!mkdir $bigWig_vis_dir"
   ]
  },
  {
   "cell_type": "code",
   "execution_count": null,
   "id": "b92f71f4",
   "metadata": {},
   "outputs": [],
   "source": [
    "# Set print_output = True to see command-line output\n",
    "# Set return_output = False if assigning commmand-line output to a variable\n",
    "print_output = False\n",
    "return_output = False\n",
    "\n",
    "ends_region = 'Eco_Mtb:4641653:9053361'\n",
    "\n",
    "downsample_stats = pd.read_csv(f'{downsample_dir}/downsampled_depths.csv')\n",
    "max_spike_counts = downsample_stats['Downsampled_spike_read_counts'].max()\n",
    "\n",
    "# Generate bigWig files for visualization\n",
    "for sample in sample_list:\n",
    "    spike_counts = downsample_stats.loc[downsample_stats['Sample_Name'] == sample].Downsampled_spike_read_counts\n",
    "    spikeFactor = max_spike_counts / spike_counts\n",
    "    \n",
    "    bigwig_plus_command = f'bamCoverage --bam {downsample_dir}/{sample}_downsample.bam ' + \\\n",
    "                          f'--numberOfProcessors {processors} --region {ends_region} ' + \\\n",
    "                          f'--skipNonCoveredRegions --skipNAs --scaleFactor {int(spikeFactor)} ' + \\\n",
    "                          f'--outFileName {bigWig_vis_dir}/{sample}_vis_plus.bw --outFileFormat bigwig ' + \\\n",
    "                          f'--binSize 1 --filterRNAstrand forward --Offset 1' \n",
    "    bigwig_minus_command = f'bamCoverage --bam {downsample_dir}/{sample}_downsample.bam ' + \\\n",
    "                           f'--numberOfProcessors {processors} --region {ends_region} '+ \\\n",
    "                           f'--skipNonCoveredRegions --skipNAs --scaleFactor {int(spikeFactor)} ' + \\\n",
    "                           f'--outFileName {bigWig_vis_dir}/{sample}_vis_minus.bw --outFileFormat bigwig ' + \\\n",
    "                           f'--binSize 1 --filterRNAstrand reverse --Offset 1' \n",
    " \n",
    "    bigwig_plus = quickshell(bigwig_plus_command, print_output = print_output, return_output = return_output)\n",
    "    print(f'bigWig generation (visualization): {sample} plus done')\n",
    "    bigwig_minus = quickshell(bigwig_minus_command, print_output = print_output, return_output = return_output)\n",
    "    print(f'bigWig generation (visualization): {sample} minus done')"
   ]
  }
 ],
 "metadata": {
  "kernelspec": {
   "display_name": "Python 3",
   "language": "python",
   "name": "python3"
  },
  "language_info": {
   "codemirror_mode": {
    "name": "ipython",
    "version": 3
   },
   "file_extension": ".py",
   "mimetype": "text/x-python",
   "name": "python",
   "nbconvert_exporter": "python",
   "pygments_lexer": "ipython3",
   "version": "3.8.8"
  }
 },
 "nbformat": 4,
 "nbformat_minor": 5
}
