{
 "cells": [
  {
   "cell_type": "code",
   "execution_count": 1,
   "id": "3a5878af",
   "metadata": {},
   "outputs": [],
   "source": [
    "import subprocess, time\n",
    "import pandas as pd\n",
    "import numpy as np\n",
    "import regex\n",
    "import pysam\n",
    "import csv\n",
    "from Bio.Seq import Seq\n",
    "from Bio import SeqIO\n",
    "from os import listdir\n",
    "from os.path import exists\n",
    "from Bio import SeqRecord\n",
    "import scipy"
   ]
  },
  {
   "cell_type": "code",
   "execution_count": 2,
   "id": "ff552540",
   "metadata": {},
   "outputs": [],
   "source": [
    "# written by Peter Culviner, PhD to enable command-line access through Jupyter\n",
    "def quickshell(command, print_output=True, output_path=None, return_output=False):\n",
    "    process_output = subprocess.run(command, shell=True, stdout=subprocess.PIPE, stderr=subprocess.PIPE)\n",
    "    stdout = process_output.stdout.decode('utf-8')\n",
    "    stderr = process_output.stderr.decode('utf-8')\n",
    "    output_string = f'STDOUT:\\n{stdout}\\nSTDERR:\\n{stderr}\\n'\n",
    "    if print_output:\n",
    "        print('$ ' + command)\n",
    "        print(output_string)\n",
    "    if output_path is not None:\n",
    "        with open(output_path, 'w') as f:\n",
    "            f.write(output_string)\n",
    "    if return_output:\n",
    "        return stdout, stderr"
   ]
  },
  {
   "cell_type": "code",
   "execution_count": 4,
   "id": "e22bbecd",
   "metadata": {},
   "outputs": [],
   "source": [
    "# Threads (CPU x2 is max)\n",
    "threads = 18\n",
    "\n",
    "# initializing locations of input .csv files, etc. \n",
    "main_path = '5enrich_CRP'\n",
    "#main_path = '3enrich_NusAG'\n",
    "main_path = 'gDNA'\n",
    "\n",
    "readPrep_dir = f'{main_path}/readPrep'\n",
    "\n",
    "# Pre-processing alignments prior to enriched end calling\n",
    "initial_alignments_dir = f'{readPrep_dir}/initial_alignments'\n",
    "dedup_alignments_dir = f'{readPrep_dir}/dedup_alignments'"
   ]
  },
  {
   "cell_type": "code",
   "execution_count": null,
   "id": "08e15607",
   "metadata": {},
   "outputs": [],
   "source": [
    "sample_list = ['NusA_NusG2']"
   ]
  },
  {
   "cell_type": "markdown",
   "id": "3aae32a2",
   "metadata": {},
   "source": [
    "# Split large bam that is too big for de-duplication with umi-tools"
   ]
  },
  {
   "cell_type": "code",
   "execution_count": null,
   "id": "33075f5a",
   "metadata": {},
   "outputs": [],
   "source": [
    "# Split bams\n",
    "for sample in sample_list:\n",
    "\n",
    "    split_command = f'picard SplitSamByNumberOfReads -I {initial_alignments_dir}/sorted_{sample}.bam '  + \\\n",
    "       f'-O {initial_alignments_dir} --OUT_PREFIX sorted_{sample} -N_FILES 2'\n",
    "       \n",
    "    split = quickshell(split_command, print_output = False, return_output=False)\n",
    "\n",
    "    print(f'Split initial bams: {sample} done')"
   ]
  },
  {
   "cell_type": "code",
   "execution_count": null,
   "id": "979840ce",
   "metadata": {},
   "outputs": [],
   "source": [
    "# Sort and index split bams\n",
    "for sample in sample_list:\n",
    "\n",
    "    sort1_command = f'samtools sort -O BAM {initial_alignments_dir}/sorted_{sample}_0001.bam > ' + \\\n",
    "       f'{initial_alignments_dir}/sorted_{sample}1.bam'\n",
    "       \n",
    "    sort1 = quickshell(sort1_command, print_output = False, return_output = False)\n",
    "   \n",
    "    sort2_command = f'samtools sort -O BAM {initial_alignments_dir}/sorted_{sample}_0002.bam > ' + \\\n",
    "       f'{initial_alignments_dir}/sorted_{sample}2.bam'\n",
    "       \n",
    "    sort2 = quickshell(sort2_command, print_output = False, return_output = False)\n",
    "       \n",
    "    print(f'Sort split bams: {sample} done')\n",
    "\n",
    "    index1_command = f'samtools index {initial_alignments_dir}/sorted_{sample}1.bam'\n",
    "       \n",
    "    index1 = quickshell(index1_command, print_output = False, return_output = False)\n",
    "   \n",
    "    index2_command = f'samtools index {initial_alignments_dir}/sorted_{sample}2.bam'\n",
    "       \n",
    "    index2 = quickshell(index2_command, print_output = False, return_output = False)\n",
    "           \n",
    "    print(f'Index split bams: {sample} done')"
   ]
  },
  {
   "cell_type": "markdown",
   "id": "7e9cf984",
   "metadata": {},
   "source": [
    "# De-duplicate each split bam file separately"
   ]
  },
  {
   "cell_type": "code",
   "execution_count": null,
   "id": "c4db907b",
   "metadata": {},
   "outputs": [],
   "source": [
    "# Dedup split bams\n",
    "for sample in sample_list:\n",
    "\n",
    "    dedup1_command = f'umi_tools dedup -I {initial_alignments_dir}/sorted_{sample}1.bam '  + \\\n",
    "            f'--paired --output-stats={initial_alignments_dir}/dedup_logs/sorted_{sample}1 --no-sort-output ' + \\\n",
    "            f'-S {initial_alignments_dir}/{sample}1_dedup.bam'\n",
    "        \n",
    "    dedup1 = quickshell(dedup1_command, print_output = False, return_output=False)\n",
    "\n",
    "    dedup2_command = f'umi_tools dedup -I {initial_alignments_dir}/sorted_{sample}2.bam '  + \\\n",
    "            f'--paired --output-stats={initial_alignments_dir}/dedup_logs/sorted_{sample}2 --no-sort-output ' + \\\n",
    "            f'-S {initial_alignments_dir}/{sample}2_dedup.bam'\n",
    "        \n",
    "    dedup2 = quickshell(dedup2_command, print_output = False, return_output=False)\n",
    "    \n",
    "    print(f'Dedup split bams: {sample} done')"
   ]
  },
  {
   "cell_type": "code",
   "execution_count": null,
   "id": "14ab2009",
   "metadata": {},
   "outputs": [],
   "source": [
    "# Sort and index split dedup bams\n",
    "for sample in sample_list:\n",
    "\n",
    "    sort1_command = f'samtools sort -O BAM {initial_alignments_dir}/{sample}1_dedup.bam > ' + \\\n",
    "        f'{initial_alignments_dir}/sorted_{sample}1_dedup.bam'\n",
    "        \n",
    "    sort1 = quickshell(sort1_command, print_output = False, return_output = False)\n",
    "    \n",
    "    sort2_command = f'samtools sort -O BAM {initial_alignments_dir}/{sample}2_dedup.bam > ' + \\\n",
    "        f'{initial_alignments_dir}/sorted_{sample}2_dedup.bam'\n",
    "        \n",
    "    sort2 = quickshell(sort2_command, print_output = False, return_output = False)\n",
    "        \n",
    "    print(f'Sort split spike dedup bams: {sample} done')\n",
    "\n",
    "    index1_command = f'samtools index {initial_alignments_dir}/sorted_{sample}1_dedup.bam'\n",
    "        \n",
    "    index1 = quickshell(index1_command, print_output = False, return_output = False)\n",
    "    \n",
    "    index2_command = f'samtools index {initial_alignments_dir}/sorted_{sample}2_dedup.bam'\n",
    "        \n",
    "    index2 = quickshell(index2_command, print_output = False, return_output = False)\n",
    "            \n",
    "    print(f'Index split dedup bams: {sample} done')"
   ]
  },
  {
   "cell_type": "markdown",
   "id": "db084035",
   "metadata": {},
   "source": [
    "# Merge the de-duplicated bams"
   ]
  },
  {
   "cell_type": "code",
   "execution_count": null,
   "id": "8f74006f",
   "metadata": {},
   "outputs": [],
   "source": [
    "# Merge dedup bams\n",
    "for sample in sample_list:\n",
    " \n",
    "    merge_command = f'picard MergeSamFiles -I {initial_alignments_dir}/sorted_{sample}1_dedup.bam '  + \\\n",
    "        f'-I {initial_alignments_dir}/sorted_{sample}2_dedup.bam -O {initial_alignments_dir}/{sample}_dedup.bam'\n",
    "        \n",
    "    merge = quickshell(merge_command, print_output = False, return_output=False)\n",
    "\n",
    "    print(f'Merge dedup bams: {sample} done')"
   ]
  },
  {
   "cell_type": "code",
   "execution_count": null,
   "id": "04120386",
   "metadata": {},
   "outputs": [],
   "source": [
    "# Sort and index the merged, de-duplicated bams\n",
    "for sample in sample_list:\n",
    "\n",
    "    sort_command = f'samtools sort -O BAM {initial_alignments_dir}/{sample}_dedup.bam > ' + \\\n",
    "        f'{dedup_alignments_dir}/sorted_{sample}_dedup.bam'\n",
    "        \n",
    "    sort = quickshell(sort_command, print_output = False, return_output = False)\n",
    "        \n",
    "    print(f'Sort merged dedup bam: {sample} done')\n",
    "    \n",
    "    index_command = f'samtools index {dedup_alignments_dir}/sorted_{sample}_dedup.bam'\n",
    "        \n",
    "    index = quickshell(index_command, print_output = False, return_output = False)\n",
    "            \n",
    "    print(f'Index merged dedup spike bam: {sample} done')"
   ]
  }
 ],
 "metadata": {
  "kernelspec": {
   "display_name": "Python 3 (ipykernel)",
   "language": "python",
   "name": "python3"
  },
  "language_info": {
   "codemirror_mode": {
    "name": "ipython",
    "version": 3
   },
   "file_extension": ".py",
   "mimetype": "text/x-python",
   "name": "python",
   "nbconvert_exporter": "python",
   "pygments_lexer": "ipython3",
   "version": "3.8.16"
  }
 },
 "nbformat": 4,
 "nbformat_minor": 5
}
