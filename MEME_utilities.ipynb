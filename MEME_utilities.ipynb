{
 "cells": [
  {
   "cell_type": "code",
   "execution_count": 8,
   "id": "8893038e",
   "metadata": {},
   "outputs": [],
   "source": [
    "import subprocess, os"
   ]
  },
  {
   "cell_type": "code",
   "execution_count": 4,
   "id": "e5bfac09",
   "metadata": {},
   "outputs": [],
   "source": [
    "# Executable path for the MEME algorithm (depends on where you have it installed)\n",
    "MEME_path = '/usr/local/bin/meme/bin'"
   ]
  },
  {
   "cell_type": "code",
   "execution_count": 6,
   "id": "e0037bc6",
   "metadata": {},
   "outputs": [],
   "source": [
    "# written by Peter Culviner, PhD to enable command-line access through Jupyter\n",
    "def quickshell(command, print_output=True, output_path=None, return_output=False):\n",
    "    process_output = subprocess.run(command, shell=True, stdout=subprocess.PIPE, stderr=subprocess.PIPE)\n",
    "    stdout = process_output.stdout.decode('utf-8')\n",
    "    stderr = process_output.stderr.decode('utf-8')\n",
    "    output_string = f'STDOUT:\\n{stdout}\\nSTDERR:\\n{stderr}\\n'\n",
    "    if print_output:\n",
    "        print('$ ' + command)\n",
    "        print(output_string)\n",
    "    if output_path is not None:\n",
    "        with open(output_path, 'w') as f:\n",
    "            f.write(output_string)\n",
    "    if return_output:\n",
    "        return stdout, stderr"
   ]
  },
  {
   "cell_type": "markdown",
   "id": "6fb518fd",
   "metadata": {},
   "source": [
    "# Generating background model"
   ]
  },
  {
   "cell_type": "code",
   "execution_count": null,
   "id": "d908daf2",
   "metadata": {},
   "outputs": [],
   "source": [
    "def generate_background_model(genome, output):\n",
    "    get_markov_call = f'{MEME_path}/fasta-get-markov {genome} > {output}'\n",
    "    quickshell(fimo_call, print_output = True)"
   ]
  },
  {
   "cell_type": "markdown",
   "id": "56c57c3a",
   "metadata": {},
   "source": [
    "# Motif scanning with FIMO"
   ]
  },
  {
   "cell_type": "code",
   "execution_count": 1,
   "id": "6c650e07",
   "metadata": {},
   "outputs": [],
   "source": [
    "def sea_get_matches(input_fasta, input_control_fasta, output, motif_input_dir):\n",
    "    \"\"\"\n",
    "    Re-run SEA without the --no-seqs argument hard-coded into xstreme to get the true positives.\n",
    "    input_fasta: needs relative path, must be a string ending in .fasta.\n",
    "    input_control_fasta: control sequences for background GC content/regulatory context.\n",
    "        needs relative path, must be a string ending in .fasta.\n",
    "    output: directory to contain the output results\n",
    "    motif_input_dir: location of the de novo-discovered motif, found with MEME. (can update if STREME preferred)\n",
    "    \"\"\"\n",
    "    sea_call = f'{MEME_path}/sea --verbosity 4 ' + \\\n",
    "                    f'--oc {output} ' + \\\n",
    "                    f'--qvalue --thresh 1 --order 2 --bfile {motif_dir}/background ' + \\\n",
    "                    f'--seed 0 --align center --motif-pseudo 0.01 ' + \\\n",
    "                    f'--m {motif_input_dir}/meme_out/meme.xml --m {motif_dir}/streme_out/streme.xml ' + \\\n",
    "                    f'--p {input_fasta} ' + \\\n",
    "                    f'--n {input_control_fasta}'\n",
    "    quickshell(sea_call, print_output = True)"
   ]
  },
  {
   "cell_type": "code",
   "execution_count": 2,
   "id": "0ded7c2b",
   "metadata": {},
   "outputs": [],
   "source": [
    "def fimo_changeThreshold(input_fasta, motif_input_dir, output, motif, pval_threshold):\n",
    "    \"\"\"\n",
    "    Re-run fimo with a lower threshold to extract all true positives from SEA analysis.\n",
    "    input_fasta: needs relative path, must be a string ending in .fasta.\n",
    "    motif_input_dir: location of the de novo-discovered motif, found with MEME. (can update if STREME)\n",
    "    output: directory to contain the output results.\n",
    "    motif: motif to scan for using IUPAC notation (e.g. KGUGAYBHASVUCAC)\n",
    "    pval_threshold: threshold to identify significant motifs\n",
    "    \"\"\"\n",
    "    fimo_call = f'{MEME_path}/fimo ' + \\\n",
    "                f'--parse-genomic-coord --verbosity 4 --oc {output} ' + \\\n",
    "                f'--bfile {motif_input_dir}/background --motif {motif} --thresh {pval_threshold} ' + \\\n",
    "                f'{motif_input_dir}/meme_out/meme.xml ' + \\\n",
    "                f'{input_fasta}'\n",
    "    quickshell(fimo_call, print_output = True)"
   ]
  },
  {
   "cell_type": "markdown",
   "id": "6e7fa91c",
   "metadata": {},
   "source": [
    "# Scanning for CRP motif in CFG vs. in cellulo"
   ]
  },
  {
   "cell_type": "code",
   "execution_count": null,
   "id": "3efaed3b",
   "metadata": {},
   "outputs": [],
   "source": [
    "fimo_changeThreshold('fig2_inCellulo_vs_CFG/all_NT_CFG.fasta',\n",
    "                    '5enrich_CRP/selectThreshold/MEME_outputs/noCRP_CRP_20counts/noCRP_CRP_20counts_min100plus30_xstreme',\n",
    "                    '5enrich_CRP/initiation_figures/CFG_motif_scan',\n",
    "                    'KGUGAYBHASVUCAC',\n",
    "                    0.00324)"
   ]
  },
  {
   "cell_type": "code",
   "execution_count": 11,
   "id": "173a8d92",
   "metadata": {},
   "outputs": [],
   "source": [
    "fimo_changeThreshold('fig2_inCellulo_vs_CFG/all_NT_inCellulo.fasta',\n",
    "                    '5enrich_CRP/selectThreshold/MEME_outputs/noCRP_CRP_20counts/noCRP_CRP_20counts_min100plus30_xstreme',\n",
    "                    '5enrich_CRP/initiation_figures/inCellulo_motif_scan',\n",
    "                    'KGUGAYBHASVUCAC',\n",
    "                    0.00324)"
   ]
  },
  {
   "cell_type": "code",
   "execution_count": null,
   "id": "1ea73e79",
   "metadata": {},
   "outputs": [],
   "source": []
  }
 ],
 "metadata": {
  "kernelspec": {
   "display_name": "Python 3",
   "language": "python",
   "name": "python3"
  },
  "language_info": {
   "codemirror_mode": {
    "name": "ipython",
    "version": 3
   },
   "file_extension": ".py",
   "mimetype": "text/x-python",
   "name": "python",
   "nbconvert_exporter": "python",
   "pygments_lexer": "ipython3",
   "version": "3.8.8"
  }
 },
 "nbformat": 4,
 "nbformat_minor": 5
}
